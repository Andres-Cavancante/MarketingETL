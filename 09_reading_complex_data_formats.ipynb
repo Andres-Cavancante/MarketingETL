{
 "cells": [
  {
   "cell_type": "code",
   "execution_count": 1,
   "metadata": {},
   "outputs": [],
   "source": [
    "import sys\n",
    "import os\n",
    "sys.path.append(os.getenv(\"PYTHONPATH\", \"/app\")) #REVIEW\n",
    "from utils import Utils"
   ]
  },
  {
   "cell_type": "code",
   "execution_count": 2,
   "metadata": {},
   "outputs": [
    {
     "name": "stderr",
     "output_type": "stream",
     "text": [
      "Setting default log level to \"WARN\".\n",
      "To adjust logging level use sc.setLogLevel(newLevel). For SparkR, use setLogLevel(newLevel).\n",
      "25/02/10 19:53:21 WARN NativeCodeLoader: Unable to load native-hadoop library for your platform... using builtin-java classes where applicable\n"
     ]
    }
   ],
   "source": [
    "utils = Utils()\n",
    "spark = utils.get_spark_session()"
   ]
  },
  {
   "cell_type": "code",
   "execution_count": null,
   "metadata": {},
   "outputs": [],
   "source": [
    "# Read single parquet file:\n",
    "parquet_sales = spark.read.format(\"parquet\").load(\"/app/inputs/sales_data.parquet\")\n",
    "# The schema which is store in the file is read\n",
    "parquet_sales.printSchema()"
   ]
  },
  {
   "cell_type": "code",
   "execution_count": null,
   "metadata": {},
   "outputs": [],
   "source": [
    "parquet_sales.show()"
   ]
  },
  {
   "cell_type": "code",
   "execution_count": null,
   "metadata": {},
   "outputs": [],
   "source": [
    "# Read several parquet files:\n",
    "spark.read.format(\"parquet\").load(\"/app/inputs/sales_total_parquet/*.parquet\").show()"
   ]
  },
  {
   "cell_type": "code",
   "execution_count": null,
   "metadata": {},
   "outputs": [],
   "source": [
    "# Read single ORC file:\n",
    "spark.read.format(\"orc\").load(\"/app/inputs/sales_data.orc\").show()"
   ]
  },
  {
   "cell_type": "code",
   "execution_count": null,
   "metadata": {},
   "outputs": [],
   "source": [
    "# Read several ORC files:\n",
    "spark.read.format(\"orc\").load(\"/app/inputs/sales_total_orc/*.orc\").show()"
   ]
  },
  {
   "cell_type": "code",
   "execution_count": null,
   "metadata": {},
   "outputs": [],
   "source": [
    "# Parquet and ORC Spark options:\n",
    "# https://spark.apache.org/docs/latest/sql-data-sources-parquet.html\n",
    "# https://spark.apache.org/docs/latest/sql-data-sources-orc.html\n"
   ]
  },
  {
   "cell_type": "code",
   "execution_count": null,
   "metadata": {},
   "outputs": [],
   "source": [
    "# This python decorator will be used to determind file load execution time:\n",
    "import time\n",
    "\n",
    "def get_time(func):\n",
    "    def inner_get_time() -> str:\n",
    "        start_time = time.time()\n",
    "        func()\n",
    "        end_time = time.time()\n",
    "        return (f\"Execution time: {(end_time - start_time)*1000} ms\")\n",
    "    print(inner_get_time())"
   ]
  },
  {
   "cell_type": "code",
   "execution_count": null,
   "metadata": {},
   "outputs": [],
   "source": [
    "@get_time\n",
    "def x():\n",
    "    df = spark.read.format(\"parquet\").load(\"/app/inputs/sales_data.parquet\")\n",
    "    df.count()"
   ]
  },
  {
   "cell_type": "code",
   "execution_count": null,
   "metadata": {},
   "outputs": [],
   "source": [
    "# Since parquet utilizes a columnar storage architecture, performing operations over specific columns consumes less resources than over the entire data\n",
    "@get_time\n",
    "def x():\n",
    "    df = spark.read.format(\"parquet\").load(\"/app/inputs/sales_data.parquet\")\n",
    "    df.select(\"trx_id\").count()"
   ]
  }
 ],
 "metadata": {
  "kernelspec": {
   "display_name": "Python 3",
   "language": "python",
   "name": "python3"
  },
  "language_info": {
   "codemirror_mode": {
    "name": "ipython",
    "version": 3
   },
   "file_extension": ".py",
   "mimetype": "text/x-python",
   "name": "python",
   "nbconvert_exporter": "python",
   "pygments_lexer": "ipython3",
   "version": "3.undefined.undefined"
  }
 },
 "nbformat": 4,
 "nbformat_minor": 2
}
