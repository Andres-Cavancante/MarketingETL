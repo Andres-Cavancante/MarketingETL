{
 "cells": [
  {
   "cell_type": "code",
   "execution_count": 5,
   "metadata": {},
   "outputs": [],
   "source": [
    "import sys\n",
    "import os\n",
    "sys.path.append(os.getenv(\"PYTHONPATH\", \"/app\")) #REVIEW\n",
    "from utils import Utils"
   ]
  },
  {
   "cell_type": "code",
   "execution_count": 7,
   "metadata": {},
   "outputs": [],
   "source": [
    "utils = Utils()\n",
    "spark = utils.get_spark_session()\n",
    "emp = utils.get_employee_data()"
   ]
  },
  {
   "cell_type": "code",
   "execution_count": null,
   "metadata": {},
   "outputs": [],
   "source": [
    "# Casting columns ca be done through the cast() function:\n",
    "from pyspark.sql.functions import col\n",
    "\n",
    "emp.select(col(\"salary\").cast(\"double\"))"
   ]
  },
  {
   "cell_type": "code",
   "execution_count": null,
   "metadata": {},
   "outputs": [],
   "source": [
    "# Adding columns is done through the .withColumn() function:\n",
    "emp.withColumn(\"tax\", col(\"salary\")*0.17).select(\"name\", \"salary\", \"tax\").show()"
   ]
  },
  {
   "cell_type": "code",
   "execution_count": null,
   "metadata": {},
   "outputs": [],
   "source": [
    "# To assign a literal or constant value, the lit() function can be used:\n",
    "from pyspark.sql.functions import lit\n",
    "emp.withColumn(\"columnOne\", lit(1)).withColumn(\"columnTwo\", lit(\"two\")).select(\"name\", \"columnOne\", \"columnTwo\").show()"
   ]
  },
  {
   "cell_type": "code",
   "execution_count": null,
   "metadata": {},
   "outputs": [],
   "source": [
    "# It is also possible to add multiple columns in the same operation defining a dictionary with column names as keys and column values as values (withColumns()):\n",
    "columns = {\n",
    "    \"tax\": col(\"salary\") * 0.2,\n",
    "    \"oneNumber\": lit(1),\n",
    "    \"columnTwo\": lit(\"two\")\n",
    "}\n",
    "\n",
    "emp.withColumns(columns).show()"
   ]
  },
  {
   "cell_type": "code",
   "execution_count": null,
   "metadata": {},
   "outputs": [],
   "source": [
    "# .withColumnRenamed() can be used to rename columns as in:\n",
    "emp.withColumnRenamed(\"name\", \"employee_name\").show() #Same as .expr(\"name as employee_name\")\n",
    "# It is possible to have spaces in column names although it is not recommended, since downstream systems can throw errors"
   ]
  },
  {
   "cell_type": "code",
   "execution_count": null,
   "metadata": {},
   "outputs": [],
   "source": [
    "# The drop() function can be used to remove columns from the dataframe:\n",
    "emp.drop(\"department_id\", \"hire_date\").show() # Receives many arguments"
   ]
  },
  {
   "cell_type": "code",
   "execution_count": null,
   "metadata": {},
   "outputs": [],
   "source": [
    "# To limit the number of rows of a dataset (create a new dataframe with limited rows), the limit() function can be used\n",
    "emp.limit(5).show()"
   ]
  },
  {
   "cell_type": "code",
   "execution_count": null,
   "metadata": {},
   "outputs": [],
   "source": [
    "# The function show() also receives a 'limit' parameter for the number of rows showed. This does not generate another dataframe. It limits the action.\n",
    "emp.show(2)"
   ]
  }
 ],
 "metadata": {
  "kernelspec": {
   "display_name": "Python 3",
   "language": "python",
   "name": "python3"
  },
  "language_info": {
   "codemirror_mode": {
    "name": "ipython",
    "version": 3
   },
   "file_extension": ".py",
   "mimetype": "text/x-python",
   "name": "python",
   "nbconvert_exporter": "python",
   "pygments_lexer": "ipython3",
   "version": "3.8.10"
  }
 },
 "nbformat": 4,
 "nbformat_minor": 2
}
