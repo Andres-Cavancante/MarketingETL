{
 "cells": [
  {
   "cell_type": "code",
   "execution_count": 1,
   "metadata": {},
   "outputs": [],
   "source": [
    "import sys\n",
    "import os\n",
    "sys.path.append(os.getenv(\"PYTHONPATH\", \"/app\")) #REVIEW\n",
    "from utils import Utils"
   ]
  },
  {
   "cell_type": "code",
   "execution_count": 2,
   "metadata": {},
   "outputs": [
    {
     "name": "stderr",
     "output_type": "stream",
     "text": [
      "Setting default log level to \"WARN\".\n",
      "To adjust logging level use sc.setLogLevel(newLevel). For SparkR, use setLogLevel(newLevel).\n",
      "25/02/08 12:25:57 WARN NativeCodeLoader: Unable to load native-hadoop library for your platform... using builtin-java classes where applicable\n"
     ]
    }
   ],
   "source": [
    "utils = Utils()\n",
    "spark = utils.get_spark_session()\n",
    "emp = utils.get_employee_data()"
   ]
  },
  {
   "cell_type": "code",
   "execution_count": null,
   "metadata": {},
   "outputs": [],
   "source": [
    "# Window functions in pyspark can be defined through the Window class and then the .over() method can be called on a ranking function to apply it over this window:\n",
    "# Getting the max salary for every department\n",
    "from pyspark.sql.window import Window\n",
    "from pyspark.sql.functions import col, max\n",
    "\n",
    "window = Window.partitionBy(col(\"department_id\"))\n",
    "\n",
    "emp.withColumn(\"max_department_salary\", max(\"salary\").over(window)).orderBy(col(\"department_id\")).show()"
   ]
  },
  {
   "cell_type": "code",
   "execution_count": null,
   "metadata": {},
   "outputs": [],
   "source": [
    "# Getting the second biggest salary for every department\n",
    "from pyspark.sql.functions import row_number\n",
    "\n",
    "window = Window.partitionBy(col(\"department_id\")).orderBy(col(\"salary\").desc()) # In this case, this is a ranking function and not and aggregation function like max() so data has to be ordered\n",
    "\n",
    "emp.withColumn(\"department_salary_rank\", row_number().over(window)).orderBy(col(\"department_id\")).where(\"department_salary_rank == 2\").show()"
   ]
  },
  {
   "cell_type": "code",
   "execution_count": null,
   "metadata": {},
   "outputs": [],
   "source": [
    "# The same table can be generated with SQL synthax via the expr() function:\n",
    "from pyspark.sql.functions import expr\n",
    "\n",
    "emp.withColumn(\"department_salary_rank\", expr(\"row_number() over(partition by department_id order by salary desc)\")).where(\"department_salary_rank == 2\").show()"
   ]
  },
  {
   "cell_type": "code",
   "execution_count": null,
   "metadata": {},
   "outputs": [],
   "source": [
    "# To rank a metric withouth taking partitions into accout:\n",
    "\n",
    "window = Window.orderBy(col(\"salary\").desc())\n",
    "\n",
    "emp.withColumn(\"salary_rank\", row_number().over(window)).show()"
   ]
  },
  {
   "cell_type": "code",
   "execution_count": null,
   "metadata": {},
   "outputs": [],
   "source": [
    "# This is an example of other rank functions over the same window:\n",
    "from pyspark.sql.functions import row_number, rank, ntile, dense_rank\n",
    "\n",
    "emp.withColumn(\"row_number\", row_number().over(window)) \\\n",
    "  .withColumn(\"rank\", rank().over(window)) \\\n",
    "  .withColumn(\"dense_rank\", dense_rank().over(window)) \\\n",
    "  .withColumn(\"ntile\", ntile(2).over(window)) \\\n",
    "  .show()"
   ]
  },
  {
   "cell_type": "code",
   "execution_count": null,
   "metadata": {},
   "outputs": [],
   "source": []
  }
 ],
 "metadata": {
  "kernelspec": {
   "display_name": "Python 3",
   "language": "python",
   "name": "python3"
  },
  "language_info": {
   "codemirror_mode": {
    "name": "ipython",
    "version": 3
   },
   "file_extension": ".py",
   "mimetype": "text/x-python",
   "name": "python",
   "nbconvert_exporter": "python",
   "pygments_lexer": "ipython3",
   "version": "3.8.10"
  }
 },
 "nbformat": 4,
 "nbformat_minor": 2
}
